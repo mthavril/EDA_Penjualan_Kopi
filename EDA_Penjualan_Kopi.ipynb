{
  "nbformat": 4,
  "nbformat_minor": 0,
  "metadata": {
    "colab": {
      "provenance": [],
      "collapsed_sections": [
        "kF11vBWK1d73",
        "Hwf6wxH71lnq",
        "qws_wtZO-n64",
        "HsjdzrDW-9p9"
      ],
      "include_colab_link": true
    },
    "kernelspec": {
      "name": "python3",
      "display_name": "Python 3"
    },
    "language_info": {
      "name": "python"
    }
  },
  "cells": [
    {
      "cell_type": "markdown",
      "metadata": {
        "id": "view-in-github",
        "colab_type": "text"
      },
      "source": [
        "<a href=\"https://colab.research.google.com/github/mthavril/EDA_Penjualan_Kopi/blob/main/EDA_Penjualan_Kopi.ipynb\" target=\"_parent\"><img src=\"https://colab.research.google.com/assets/colab-badge.svg\" alt=\"Open In Colab\"/></a>"
      ]
    },
    {
      "cell_type": "markdown",
      "source": [
        "**EDA Penjualan Kopi 2024–2025: Mengungkap Tren dan Perilaku Pelanggan**"
      ],
      "metadata": {
        "id": "iLM_A9rRtVzI"
      }
    },
    {
      "cell_type": "markdown",
      "source": [
        "## 1. Pemanggilan Dataset"
      ],
      "metadata": {
        "id": "kF11vBWK1d73"
      }
    },
    {
      "cell_type": "code",
      "execution_count": null,
      "metadata": {
        "colab": {
          "base_uri": "https://localhost:8080/"
        },
        "id": "FdX1Ih-cABCH",
        "outputId": "4a5c32d0-c9ae-46ff-c523-4088028c10a8"
      },
      "outputs": [
        {
          "output_type": "display_data",
          "data": {
            "text/plain": [
              "<IPython.core.display.HTML object>"
            ],
            "text/html": [
              "\n",
              "     <input type=\"file\" id=\"files-c14729ad-42c8-497c-a9a8-8072850fd516\" name=\"files[]\" multiple disabled\n",
              "        style=\"border:none\" />\n",
              "     <output id=\"result-c14729ad-42c8-497c-a9a8-8072850fd516\">\n",
              "      Upload widget is only available when the cell has been executed in the\n",
              "      current browser session. Please rerun this cell to enable.\n",
              "      </output>\n",
              "      <script>// Copyright 2017 Google LLC\n",
              "//\n",
              "// Licensed under the Apache License, Version 2.0 (the \"License\");\n",
              "// you may not use this file except in compliance with the License.\n",
              "// You may obtain a copy of the License at\n",
              "//\n",
              "//      http://www.apache.org/licenses/LICENSE-2.0\n",
              "//\n",
              "// Unless required by applicable law or agreed to in writing, software\n",
              "// distributed under the License is distributed on an \"AS IS\" BASIS,\n",
              "// WITHOUT WARRANTIES OR CONDITIONS OF ANY KIND, either express or implied.\n",
              "// See the License for the specific language governing permissions and\n",
              "// limitations under the License.\n",
              "\n",
              "/**\n",
              " * @fileoverview Helpers for google.colab Python module.\n",
              " */\n",
              "(function(scope) {\n",
              "function span(text, styleAttributes = {}) {\n",
              "  const element = document.createElement('span');\n",
              "  element.textContent = text;\n",
              "  for (const key of Object.keys(styleAttributes)) {\n",
              "    element.style[key] = styleAttributes[key];\n",
              "  }\n",
              "  return element;\n",
              "}\n",
              "\n",
              "// Max number of bytes which will be uploaded at a time.\n",
              "const MAX_PAYLOAD_SIZE = 100 * 1024;\n",
              "\n",
              "function _uploadFiles(inputId, outputId) {\n",
              "  const steps = uploadFilesStep(inputId, outputId);\n",
              "  const outputElement = document.getElementById(outputId);\n",
              "  // Cache steps on the outputElement to make it available for the next call\n",
              "  // to uploadFilesContinue from Python.\n",
              "  outputElement.steps = steps;\n",
              "\n",
              "  return _uploadFilesContinue(outputId);\n",
              "}\n",
              "\n",
              "// This is roughly an async generator (not supported in the browser yet),\n",
              "// where there are multiple asynchronous steps and the Python side is going\n",
              "// to poll for completion of each step.\n",
              "// This uses a Promise to block the python side on completion of each step,\n",
              "// then passes the result of the previous step as the input to the next step.\n",
              "function _uploadFilesContinue(outputId) {\n",
              "  const outputElement = document.getElementById(outputId);\n",
              "  const steps = outputElement.steps;\n",
              "\n",
              "  const next = steps.next(outputElement.lastPromiseValue);\n",
              "  return Promise.resolve(next.value.promise).then((value) => {\n",
              "    // Cache the last promise value to make it available to the next\n",
              "    // step of the generator.\n",
              "    outputElement.lastPromiseValue = value;\n",
              "    return next.value.response;\n",
              "  });\n",
              "}\n",
              "\n",
              "/**\n",
              " * Generator function which is called between each async step of the upload\n",
              " * process.\n",
              " * @param {string} inputId Element ID of the input file picker element.\n",
              " * @param {string} outputId Element ID of the output display.\n",
              " * @return {!Iterable<!Object>} Iterable of next steps.\n",
              " */\n",
              "function* uploadFilesStep(inputId, outputId) {\n",
              "  const inputElement = document.getElementById(inputId);\n",
              "  inputElement.disabled = false;\n",
              "\n",
              "  const outputElement = document.getElementById(outputId);\n",
              "  outputElement.innerHTML = '';\n",
              "\n",
              "  const pickedPromise = new Promise((resolve) => {\n",
              "    inputElement.addEventListener('change', (e) => {\n",
              "      resolve(e.target.files);\n",
              "    });\n",
              "  });\n",
              "\n",
              "  const cancel = document.createElement('button');\n",
              "  inputElement.parentElement.appendChild(cancel);\n",
              "  cancel.textContent = 'Cancel upload';\n",
              "  const cancelPromise = new Promise((resolve) => {\n",
              "    cancel.onclick = () => {\n",
              "      resolve(null);\n",
              "    };\n",
              "  });\n",
              "\n",
              "  // Wait for the user to pick the files.\n",
              "  const files = yield {\n",
              "    promise: Promise.race([pickedPromise, cancelPromise]),\n",
              "    response: {\n",
              "      action: 'starting',\n",
              "    }\n",
              "  };\n",
              "\n",
              "  cancel.remove();\n",
              "\n",
              "  // Disable the input element since further picks are not allowed.\n",
              "  inputElement.disabled = true;\n",
              "\n",
              "  if (!files) {\n",
              "    return {\n",
              "      response: {\n",
              "        action: 'complete',\n",
              "      }\n",
              "    };\n",
              "  }\n",
              "\n",
              "  for (const file of files) {\n",
              "    const li = document.createElement('li');\n",
              "    li.append(span(file.name, {fontWeight: 'bold'}));\n",
              "    li.append(span(\n",
              "        `(${file.type || 'n/a'}) - ${file.size} bytes, ` +\n",
              "        `last modified: ${\n",
              "            file.lastModifiedDate ? file.lastModifiedDate.toLocaleDateString() :\n",
              "                                    'n/a'} - `));\n",
              "    const percent = span('0% done');\n",
              "    li.appendChild(percent);\n",
              "\n",
              "    outputElement.appendChild(li);\n",
              "\n",
              "    const fileDataPromise = new Promise((resolve) => {\n",
              "      const reader = new FileReader();\n",
              "      reader.onload = (e) => {\n",
              "        resolve(e.target.result);\n",
              "      };\n",
              "      reader.readAsArrayBuffer(file);\n",
              "    });\n",
              "    // Wait for the data to be ready.\n",
              "    let fileData = yield {\n",
              "      promise: fileDataPromise,\n",
              "      response: {\n",
              "        action: 'continue',\n",
              "      }\n",
              "    };\n",
              "\n",
              "    // Use a chunked sending to avoid message size limits. See b/62115660.\n",
              "    let position = 0;\n",
              "    do {\n",
              "      const length = Math.min(fileData.byteLength - position, MAX_PAYLOAD_SIZE);\n",
              "      const chunk = new Uint8Array(fileData, position, length);\n",
              "      position += length;\n",
              "\n",
              "      const base64 = btoa(String.fromCharCode.apply(null, chunk));\n",
              "      yield {\n",
              "        response: {\n",
              "          action: 'append',\n",
              "          file: file.name,\n",
              "          data: base64,\n",
              "        },\n",
              "      };\n",
              "\n",
              "      let percentDone = fileData.byteLength === 0 ?\n",
              "          100 :\n",
              "          Math.round((position / fileData.byteLength) * 100);\n",
              "      percent.textContent = `${percentDone}% done`;\n",
              "\n",
              "    } while (position < fileData.byteLength);\n",
              "  }\n",
              "\n",
              "  // All done.\n",
              "  yield {\n",
              "    response: {\n",
              "      action: 'complete',\n",
              "    }\n",
              "  };\n",
              "}\n",
              "\n",
              "scope.google = scope.google || {};\n",
              "scope.google.colab = scope.google.colab || {};\n",
              "scope.google.colab._files = {\n",
              "  _uploadFiles,\n",
              "  _uploadFilesContinue,\n",
              "};\n",
              "})(self);\n",
              "</script> "
            ]
          },
          "metadata": {}
        }
      ],
      "source": [
        "from google.colab import files\n",
        "files.upload()"
      ]
    },
    {
      "cell_type": "code",
      "source": [
        "import os\n",
        "\n",
        "os.makedirs('/root/.kaggle', exist_ok=True)\n",
        "!mv kaggle.json /root/.kaggle/\n",
        "!chmod 600 /root/kaggle.json"
      ],
      "metadata": {
        "id": "qIa3l5c7BQPB"
      },
      "execution_count": null,
      "outputs": []
    },
    {
      "cell_type": "code",
      "source": [
        "!kaggle datasets  download -d ihelon/coffee-sales"
      ],
      "metadata": {
        "id": "grf8-EfTBlUM"
      },
      "execution_count": null,
      "outputs": []
    },
    {
      "cell_type": "code",
      "source": [
        "import zipfile\n",
        "\n",
        "with zipfile.ZipFile(\"coffee-sales.zip\", \"r\") as zip_ref:\n",
        "  zip_ref.extractall(\"coffee_sales_dataset\")"
      ],
      "metadata": {
        "id": "WiF00BBcET_D"
      },
      "execution_count": null,
      "outputs": []
    },
    {
      "cell_type": "code",
      "source": [
        "os.listdir(\"coffee_sales_dataset\")"
      ],
      "metadata": {
        "id": "gaf6HSggFYas"
      },
      "execution_count": null,
      "outputs": []
    },
    {
      "cell_type": "markdown",
      "source": [
        "## 2. Menggabungkan kedua file csv menjadi 1 file"
      ],
      "metadata": {
        "id": "Hwf6wxH71lnq"
      }
    },
    {
      "cell_type": "code",
      "source": [
        "import pandas as pd\n",
        "\n",
        "#Baca dua file CSV\n",
        "df1 = pd.read_csv(\"coffee_sales_dataset/index_1.csv\")\n",
        "df2 = pd.read_csv(\"coffee_sales_dataset/index_2.csv\")\n",
        "\n",
        "#Gabungkan keduanya\n",
        "df = pd.concat([df1, df2], ignore_index=True)\n",
        "print(\"Jumlah total data:\", len(df))\n",
        "df.head()\n"
      ],
      "metadata": {
        "id": "O6VuaOgqHS75"
      },
      "execution_count": null,
      "outputs": []
    },
    {
      "cell_type": "markdown",
      "source": [
        "## 3. Membuat kolom baru (tahun, bulan, hari dan payment_method) &&& mengganti kolom (money) menjadi (total_price)"
      ],
      "metadata": {
        "id": "qws_wtZO-n64"
      }
    },
    {
      "cell_type": "code",
      "source": [
        "print(df.columns)"
      ],
      "metadata": {
        "id": "JrD8MrvoG2iI"
      },
      "execution_count": null,
      "outputs": []
    },
    {
      "cell_type": "code",
      "source": [
        "df.info()"
      ],
      "metadata": {
        "id": "5sr6MXwrHv-U"
      },
      "execution_count": null,
      "outputs": []
    },
    {
      "cell_type": "code",
      "source": [
        "df.isnull().sum()"
      ],
      "metadata": {
        "id": "n2cMKoaFILpt"
      },
      "execution_count": null,
      "outputs": []
    },
    {
      "cell_type": "code",
      "source": [
        "df['date'] = pd.to_datetime(df['date'])\n",
        "\n",
        "df['year'] = df['date'].dt.year\n",
        "df['month'] = df['date'].dt.month_name()\n",
        "df['day_name'] = df['date'].dt.day_name()\n"
      ],
      "metadata": {
        "id": "pzGFghsT0KcC"
      },
      "execution_count": null,
      "outputs": []
    },
    {
      "cell_type": "code",
      "source": [
        "df = df.rename(columns={'money': 'total_price'})"
      ],
      "metadata": {
        "id": "IPP1frmP0nsy"
      },
      "execution_count": null,
      "outputs": []
    },
    {
      "cell_type": "code",
      "source": [
        "import numpy as np\n",
        "\n",
        "df['payment_method'] = np.where(\n",
        "    df['card'].notnull(), 'Card',\n",
        "    np.where(\n",
        "        df['cash_type'].str.lower() == 'cash', 'Cash', 'Unknown'\n",
        "    )\n",
        ")\n"
      ],
      "metadata": {
        "id": "nvNfcDw21Lmk"
      },
      "execution_count": null,
      "outputs": []
    },
    {
      "cell_type": "code",
      "source": [
        "df[['date', 'coffee_name', 'payment_method', 'total_price']].head()\n"
      ],
      "metadata": {
        "id": "rKRtweH80vpu"
      },
      "execution_count": null,
      "outputs": []
    },
    {
      "cell_type": "code",
      "source": [
        "df.head()"
      ],
      "metadata": {
        "id": "ku626ug73xDV"
      },
      "execution_count": null,
      "outputs": []
    },
    {
      "cell_type": "markdown",
      "source": [
        "## 4. Langkah 1: Menganalisis tren penjualan berdasarkan waktu (hari, bulan, tahun)."
      ],
      "metadata": {
        "id": "HsjdzrDW-9p9"
      }
    },
    {
      "cell_type": "markdown",
      "source": [
        "**1A. Apakah penjualan meningkat di akhir tahun?**"
      ],
      "metadata": {
        "id": "D7kTAELQ_Ftw"
      }
    },
    {
      "cell_type": "code",
      "source": [
        "import matplotlib.pyplot as plt\n",
        "import pandas as pd\n",
        "\n",
        "# Hitung total penjualan per bulan per tahun\n",
        "monthly_sales = (\n",
        "    df.groupby(['year', 'month'])['total_price']\n",
        "    .sum()\n",
        "    .reset_index()\n",
        ")\n",
        "\n",
        "# Mengurutkan bulan\n",
        "month_order = ['January', 'February', 'March', 'April', 'May', 'June',\n",
        "               'July', 'August', 'September', 'October', 'November', 'December']\n",
        "monthly_sales['month'] = pd.Categorical(monthly_sales['month'], categories=month_order, ordered=True)\n",
        "monthly_sales = monthly_sales.sort_values(['year', 'month'])\n",
        "\n",
        "# Visualisasi\n",
        "plt.figure(figsize=(10,5))\n",
        "for year in df['year'].unique():\n",
        "  data = monthly_sales[monthly_sales['year'] == year]\n",
        "  plt.plot(data['month'], data['total_price'], marker='o', label=year)\n",
        "\n",
        "plt.title(\"Tren Penjualan per Bulan (2024 vs 2025)\")\n",
        "plt.xlabel(\"Bulan\")\n",
        "plt.ylabel(\"TotalPenjualan\")\n",
        "plt.legend(title=\"Tahun\")\n",
        "plt.xticks(rotation=45)\n",
        "plt.grid(True)\n",
        "plt.tight_layout()\n",
        "plt.show()\n"
      ],
      "metadata": {
        "id": "QetCV879_Jqs"
      },
      "execution_count": null,
      "outputs": []
    },
    {
      "cell_type": "markdown",
      "source": [
        "**1B. hari apa penjualan paling tinggi (weekday vs weekend)?**"
      ],
      "metadata": {
        "id": "Xj5mrPFABvBe"
      }
    },
    {
      "cell_type": "code",
      "source": [
        "# Menambahkan nama hari\n",
        "df['day_name'] = df['date'].dt.day_name()\n",
        "\n",
        "# Total penjualan per hari\n",
        "weekday_sales = (\n",
        "    df.groupby('day_name')['total_price']\n",
        "    .sum()\n",
        "    .reindex(['Monday', 'Tuesday', 'Wednesday', 'Thursday', 'Friday', 'Saturday', 'Sunday'])\n",
        "    .reset_index()\n",
        ")\n",
        "\n",
        "# Visualisasi\n",
        "plt.figure(figsize=(8,4))\n",
        "plt.bar(weekday_sales['day_name'], weekday_sales['total_price'])\n",
        "plt.title(\"Total Penjualan per Hari\")\n",
        "plt.xlabel(\"Hari\")\n",
        "plt.ylabel(\"Total Penjualan\")\n",
        "plt.xticks(rotation=45)\n",
        "plt.tight_layout()\n",
        "plt.show()\n",
        "\n",
        "weekday_sales\n"
      ],
      "metadata": {
        "id": "1AQnPl0Bey64"
      },
      "execution_count": null,
      "outputs": []
    },
    {
      "cell_type": "code",
      "source": [
        "# Menambahkan kolom weekend untuk analisis pola hari\n",
        "df['is_weekend'] = df['day_name'].isin(['Saturday', 'Sunday'])\n",
        "weekend_sales = df.groupby('is_weekend')['total_price'].sum().reset_index()\n",
        "weekend_sales['Kategori'] = weekend_sales['is_weekend'].map({True: 'Weekend', False: 'Weekday'})\n",
        "\n",
        "plt.figure(figsize=(6,4))\n",
        "plt.bar(weekend_sales['Kategori'], weekend_sales['total_price'], color=['#c68e17', '#8b4513'])\n",
        "plt.title(\"Perbandingan Penjualan Weekday vs Weekend\")\n",
        "plt.xlabel(\"Kategori Hari\")\n",
        "plt.ylabel(\"Total Penjualan\")\n",
        "plt.tight_layout()\n",
        "plt.show()\n"
      ],
      "metadata": {
        "id": "MNquh981drcD"
      },
      "execution_count": null,
      "outputs": []
    },
    {
      "cell_type": "markdown",
      "source": [
        "## 5. Langkah2:\tMenganalisis produk terlaris tiap tahun."
      ],
      "metadata": {
        "id": "gbaCXFHGB1Ea"
      }
    },
    {
      "cell_type": "markdown",
      "source": [
        "**Jenis kopi apa yang paling sering dibeli?**"
      ],
      "metadata": {
        "id": "Vqt1YeyrZzaN"
      }
    },
    {
      "cell_type": "code",
      "source": [
        "import matplotlib.pyplot as plt\n",
        "import pandas as pd\n",
        "\n",
        "# Menghitung total penjualan tiap kopi per tahun\n",
        "top_products = (\n",
        "    df.groupby(['year', 'coffee_name'])['total_price']\n",
        "    .sum()\n",
        "    .reset_index()\n",
        "    .sort_values(['year', 'total_price'], ascending=[True, False])\n",
        ")\n",
        "\n",
        "# Menampilkan Top 5 produk untuk setiap tahun\n",
        "for year in df['year'].unique():\n",
        "  print(f\"\\n Top 5 Produk Kopi Terlaris Tahun {year}:\")\n",
        "  top5 = top_products[top_products['year'] == year].head().reset_index(drop=True)\n",
        "  print(top5[['coffee_name', 'total_price']])\n",
        "\n",
        "  # Visualisasikan grafik batang untuk Top 5\n",
        "  plt.figure(figsize=(7,4))\n",
        "  plt.bar(top5['coffee_name'], top5['total_price'], color='tan')\n",
        "  plt.title(f\" Top 5 Kopi Terlaris Tahun {year}\")\n",
        "  plt.xlabel(\"Jenis Kopi\")\n",
        "  plt.ylabel(\"Total Penjualan\")\n",
        "  plt.xticks(rotation=45)\n",
        "  plt.tight_layout()\n",
        "  plt.show()\n",
        "\n",
        "\n"
      ],
      "metadata": {
        "id": "FKObWKsICAJv"
      },
      "execution_count": null,
      "outputs": []
    },
    {
      "cell_type": "markdown",
      "source": [
        "## 6. Langkah3: Melihat metode pembayaran paling sering digunakan. (dari semua tahun) kalo yang di langkah 4 perbandingan / masing-maisng tahun"
      ],
      "metadata": {
        "id": "iGwmcxlbZ4FL"
      }
    },
    {
      "cell_type": "markdown",
      "source": [
        "**Apakah pelanggan lebih sering pakai tunai, kartu, atau e-wallet?**"
      ],
      "metadata": {
        "id": "LbkGQ3ybZ5yl"
      }
    },
    {
      "cell_type": "code",
      "source": [
        "df['payment_method'] = df['payment_method'].str.title()\n"
      ],
      "metadata": {
        "id": "T0wFpeG6ff_d"
      },
      "execution_count": null,
      "outputs": []
    },
    {
      "cell_type": "code",
      "source": [
        "import matplotlib.pyplot as plt\n",
        "import pandas as pd\n",
        "\n",
        "# Jumlah transaksi per metode pembayaran (semua tahun)\n",
        "payment_counts = (\n",
        "    df.groupby('payment_method')['total_price']\n",
        "    .agg(['count', 'sum'])\n",
        "    .reset_index()\n",
        "    .sort_values('count', ascending=False)\n",
        ")\n",
        "\n",
        "\n",
        "payment_counts.rename(columns={'count': 'jumlah_transaksi', 'sum': 'total_penjualan'}, inplace=True)\n",
        "\n",
        "print(\"Ringkasan Metode Pembayaran (Semua Tahun):\")\n",
        "print(payment_counts)\n",
        "\n",
        "\n",
        "# Visualisasi: Bar Chart (frekuensi transasksi)\n",
        "plt.figure(figsize=(7,4))\n",
        "plt.bar(payment_counts['payment_method'], payment_counts['jumlah_transaksi'], color='peru')\n",
        "plt.title(\"Frekuensi Penggunaan Metode Pembayaran (Semua Tahun)\")\n",
        "plt.xlabel(\"Metode Pembayaran\")\n",
        "plt.ylabel(\"Jumlah Transaksi\")\n",
        "plt.tight_layout()\n",
        "plt.show()\n",
        "\n",
        "\n",
        "# Visualisasi: Pie Chart (presentase penggunaan)\n",
        "plt.figure(figsize=(6,6))\n",
        "plt.pie(payment_counts['jumlah_transaksi'],\n",
        "        autopct='%1.1f%%', startangle=90)\n",
        "plt.title(\"Presentase Penggunaan Metode Pembayaran\")\n",
        "plt.tight_layout()\n",
        "plt.show()\n",
        "\n",
        "# Analisis per tahun\n",
        "yearly_payment = (\n",
        "    df.groupby(['year', 'payment_method'])['total_price']\n",
        "    .agg(['count', 'sum'])\n",
        "    .reset_index()\n",
        "    .sort_values(['year', 'count'], ascending=[True, False])\n",
        ")\n",
        "\n",
        "print(\"\\n Ringkasasn Metode Pembayaran per Tahun:\")\n",
        "print(yearly_payment)\n"
      ],
      "metadata": {
        "id": "Erxt7D8CaABU"
      },
      "execution_count": null,
      "outputs": []
    },
    {
      "cell_type": "markdown",
      "source": [
        "## 7. Langkah4: Membandingkan pola antara 2024 dan 2025.\n"
      ],
      "metadata": {
        "id": "e6CpnPWC9xqA"
      }
    },
    {
      "cell_type": "markdown",
      "source": [
        "**Apakah tren perilaku pelanggan berubah?**"
      ],
      "metadata": {
        "id": "YOHdwQ_Q94eQ"
      }
    },
    {
      "cell_type": "code",
      "source": [
        "# Ringkasan performa per tahun\n",
        "yearly_summary = (\n",
        "    df.groupby('year')['total_price']\n",
        "    .agg(['count', 'sum', 'mean'])\n",
        "    .reset_index()\n",
        "    .rename(columns={'count':'Jumlah Transaksi', 'sum':'Total Penjualan', 'mean':'Rata-rata Transaksi'})\n",
        ")\n",
        "print(\"Ringkasan Penjualan per Tahun:\")\n",
        "print(yearly_summary)\n",
        "\n",
        "# Visualisasi total penjualan\n",
        "plt.figure(figsize=(7,4))\n",
        "plt.bar(yearly_summary['year'].astype(str), yearly_summary['Total Penjualan'], color='sienna')\n",
        "plt.title(\"Total Penjualan per Tahun\")\n",
        "plt.xlabel(\"Tahun\")\n",
        "plt.ylabel(\"Total Penjualan\")\n",
        "plt.tight_layout()\n",
        "plt.show()\n",
        "\n",
        "\n",
        "plt.figure(figsize=(7,4))\n",
        "plt.bar(yearly_summary['year'].astype(str), yearly_summary['Rata-rata Transaksi'], color='chocolate')\n",
        "plt.title(\"Rata-rata Nilai Transaksi per Tahun\")\n",
        "plt.xlabel(\"Tahun\")\n",
        "plt.ylabel(\"Rata-rata Transaksi ($)\")\n",
        "plt.tight_layout()\n",
        "plt.show()\n",
        "\n",
        "\n",
        "\n"
      ],
      "metadata": {
        "id": "6Cl9ADRy_G4M"
      },
      "execution_count": null,
      "outputs": []
    }
  ]
}